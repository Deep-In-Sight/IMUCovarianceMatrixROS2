{
 "cells": [
  {
   "cell_type": "code",
   "execution_count": 24,
   "id": "bb8ec5bf-f3d7-4830-b4ed-1a4396755d04",
   "metadata": {},
   "outputs": [
    {
     "name": "stdout",
     "output_type": "stream",
     "text": [
      "All covariance matrices saved to all_covariance_matrices.xlsx\n"
     ]
    }
   ],
   "source": [
    "import os\n",
    "import numpy as np\n",
    "import pandas as pd\n",
    "\n",
    "# 특정 파일에서 covariance matrix 데이터를 읽어들이는 함수\n",
    "def read_covariance_matrix(file_path):\n",
    "    with open(file_path, 'r') as file:\n",
    "        lines = file.readlines()\n",
    "    \n",
    "    orientation_cov = []\n",
    "    angular_velocity_cov = []\n",
    "    linear_acceleration_cov = []\n",
    "    \n",
    "    current_matrix = None\n",
    "    for line in lines:\n",
    "        if \"Orientation covariance matrix\" in line:\n",
    "            current_matrix = orientation_cov\n",
    "        elif \"Angular velocity covariance matrix\" in line:\n",
    "            current_matrix = angular_velocity_cov\n",
    "        elif \"Linear acceleration covariance matrix\" in line:\n",
    "            current_matrix = linear_acceleration_cov\n",
    "        elif line.strip():  # 빈 줄이 아닌 경우\n",
    "            values = list(map(float, line.split()))\n",
    "            current_matrix.append(values)\n",
    "    \n",
    "    return np.array(orientation_cov), np.array(angular_velocity_cov), np.array(linear_acceleration_cov)\n",
    "\n",
    "# 폴더 내 모든 covariance matrix 파일을 엑셀로 저장하는 함수\n",
    "def save_all_covariances_to_excel(folder_path, output_excel_path):\n",
    "    # 엑셀 파일을 쓰기 모드로 열기\n",
    "    with pd.ExcelWriter(output_excel_path, engine='openpyxl') as writer:\n",
    "        sheet_added = False  # 하나 이상의 시트가 추가되었는지 확인\n",
    "        \n",
    "        # 지정된 폴더 내 모든 파일 검색\n",
    "        for filename in os.listdir(folder_path):\n",
    "            # 'covariance_matrix'로 시작하고 .txt 확장자를 가진 파일만 처리\n",
    "            if filename.startswith(\"covatiance_matrix_-\") and filename.endswith(\".txt\"):\n",
    "                file_path = os.path.join(folder_path, filename)\n",
    "                \n",
    "                # 파일에서 covariance matrix 읽기\n",
    "                orientation_cov, angular_velocity_cov, linear_acceleration_cov = read_covariance_matrix(file_path)\n",
    "                \n",
    "                # 각 행렬을 데이터프레임으로 변환\n",
    "                orientation_df = pd.DataFrame(orientation_cov, columns=['X', 'Y', 'Z'])\n",
    "                angular_velocity_df = pd.DataFrame(angular_velocity_cov, columns=['X', 'Y', 'Z'])\n",
    "                linear_acceleration_df = pd.DataFrame(linear_acceleration_cov, columns=['X', 'Y', 'Z'])\n",
    "                \n",
    "                # 파일 이름을 기반으로 시트 이름 설정\n",
    "                sheet_prefix = filename.replace(\".txt\", \"\")\n",
    "                \n",
    "                # 각 행렬을 개별 시트에 저장\n",
    "                orientation_df.to_excel(writer, sheet_name=f'{sheet_prefix}_Orientation', index=False)\n",
    "                angular_velocity_df.to_excel(writer, sheet_name=f'{sheet_prefix}_AngularVelocity', index=False)\n",
    "                linear_acceleration_df.to_excel(writer, sheet_name=f'{sheet_prefix}_LinearAcceleration', index=False)\n",
    "                \n",
    "                sheet_added = True  # 시트가 추가되었음을 표시\n",
    "                \n",
    "        # 파일에 시트를 추가하지 못한 경우 기본 시트 추가\n",
    "        if not sheet_added:\n",
    "            df_empty = pd.DataFrame({\"Message\": [\"No covariance matrix files found.\"]})\n",
    "            df_empty.to_excel(writer, sheet_name='No Data', index=False)\n",
    "\n",
    "# 폴더 경로 및 출력 엑셀 파일 경로 설정\n",
    "folder_path = '/home/hys/Downloads/imu_covariance_matrix'\n",
    "output_excel_path = 'all_covariance_matrices.xlsx'\n",
    "\n",
    "# 모든 covariance matrix 파일을 엑셀로 저장\n",
    "save_all_covariances_to_excel(folder_path, output_excel_path)\n",
    "print(f\"All covariance matrices saved to {output_excel_path}\")\n"
   ]
  },
  {
   "cell_type": "code",
   "execution_count": null,
   "id": "3c37a178-f444-464c-999e-2ed374283039",
   "metadata": {},
   "outputs": [],
   "source": []
  }
 ],
 "metadata": {
  "kernelspec": {
   "display_name": "Python 3 (ipykernel)",
   "language": "python",
   "name": "python3"
  },
  "language_info": {
   "codemirror_mode": {
    "name": "ipython",
    "version": 3
   },
   "file_extension": ".py",
   "mimetype": "text/x-python",
   "name": "python",
   "nbconvert_exporter": "python",
   "pygments_lexer": "ipython3",
   "version": "3.11.7"
  }
 },
 "nbformat": 4,
 "nbformat_minor": 5
}
